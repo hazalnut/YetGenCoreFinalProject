import random

def get_input(prompt, input_type=int, validation=None):
    while True:
        try:
            value = input_type(input(prompt))
            if validation and not validation(value):
                raise ValueError
            return value
        except ValueError:
            print("invalid input, please try again.")

age=get_input("please enter your age:", input_type=int, validation=lambda x:x>0)
gender=get_input("please enter your gender(female/male):", input_type=str, validation=lambda x:x.lower().strip() in ["male", "female"])
weight=get_input("please enter your weight(kg):", input_type=int, validation=lambda x:x>0)
height=get_input("please enter your height(cm):", input_type=int, validation=lambda x:x>0)
goal = get_input("whats your goal? (gain, lose, maintain): ", input_type=str, validation=lambda x:x.lower().strip() in ["lose", "gain", "maintain"])


print(f"selected age: {age}, selected gender: {gender}, selected weight: {weight}, selected height: {height}")


def get_activity_level():
    activity_levels={
        '1': 'sedentary',
        '2': 'light',
        '3': 'moderate',
        '4': 'active',
        '5': 'very_active'   
    }
    print("activity levels:\n 1. Sedentary\n 2. Light\n 3. Moderate\n 4. Active\n 5. Very Active")

    while True:
        choice=input("please choose your activity level(1-5):")
        if choice in activity_levels:
            return activity_levels[choice]
        
        else:
            print("invalid choice, please try again.")

activity_level=get_activity_level()
print(f"selected activity level is: {activity_level}")


def calculate_calories(age, gender, weight, height, activity_level):
    activity_rate={
        'sedentary':1.2,
        'light':1.375,
        'moderate':1.55,
        'active':1.725,
        'very_active':1.92
    }
    if gender == 'male':
        bmr = 10 * weight + 6.25 * height - 5 * age + 5
    elif gender == 'female':
        bmr = 10 * weight + 6.25 * height - 5 * age - 161
    else:
        raise ValueError("Gender must be 'male' or 'female'")

    if activity_level not in activity_rate:
        raise ValueError("Invalid activity level")

    calories = bmr * activity_rate[activity_level]

    if goal == "gain":
        calories += 500

    elif goal == "lose":
        calories -= 500 

    return calories
    
finalBMR=calculate_calories(age, gender, weight, height, activity_level)
print(f"total daily calories needed: {finalBMR:.2f}")  
    

def choose_diet_type():
    diet_types={
        '1': 'standard',
        '2': 'vegan',
        '3': 'vegetarian',
        '4': 'ketogenic',
        '5': 'gluten_free',
        '6': 'athletic'
    }
    print("please choose a diet type you want to continue:\n 1. Standard\n 2. Vegan\n 3. Vegetarian\n 4. Ketogenic\n 5. Gluten Free\n 6. Athletic Diet")

    while True:
        diet_choice=input("please choose your diet type(1-6):")
        if diet_choice in diet_types:
            return diet_types[diet_choice]
        
        else:
            print("invalid choice, please try again.")

selected_diet_type=choose_diet_type()
print(f"selected diet type is: {selected_diet_type}")


def choose_diet_time():
    while True:
        try:
            days = int(input("how many days do you want your diet plan to be?"))
            if days > 0:
                return days
            else:
                print("please enter a positive number.")
        except ValueError:
            print("invalid input, please enter a number.")

diet_days = choose_diet_time()
print(f"selected diet duration is: {diet_days} days")


standard_menu= {
    1: {
        "Breakfast": [("Scrambled Eggs", 200, 14, 2, 15), ("Whole Wheat Toast", 70, 3, 12, 1)],
        "Lunch": [("Grilled Chicken Salad", 300, 30, 15, 10), ("Greek Yogurt", 100, 10, 15, 0)],
        "Dinner": [("Baked Salmon", 350, 25, 0, 20), ("Steamed Vegetables", 100, 3, 20, 0)],
        "Snack": [("Apple", 95, 0, 25, 0), ("Almonds", 100, 4, 4, 9)]
    },
    2: {
        "Breakfast": [("Oatmeal with Berries", 150, 5, 27, 3), ("Orange Juice", 110, 2, 25, 0)],
        "Lunch": [("Turkey Sandwich", 350, 25, 40, 10), ("Carrot Sticks", 50, 1, 12, 0)],
        "Dinner": [("Spaghetti with Meatballs", 400, 20, 60, 15), ("Caesar Salad", 150, 5, 10, 10)],
        "Snack": [("Banana", 105, 1, 27, 0), ("Greek Yogurt", 100, 10, 15, 0)]
    },
    3: {
        "Breakfast": [("Smoothie", 200, 5, 45, 2), ("Boiled Egg", 70, 6, 1, 5)],
        "Lunch": [("Chicken Wrap", 350, 25, 40, 10), ("Mixed Greens Salad", 100, 3, 10, 7)],
        "Dinner": [("Grilled Steak", 400, 30, 0, 25), ("Baked Potato", 150, 3, 30, 1)],
        "Snack": [("Mixed Nuts", 200, 5, 10, 18), ("Blueberries", 85, 1, 21, 0)]
    },
    4: {
        "Breakfast": [("Yogurt Parfait", 250, 10, 40, 5), ("Apple", 95, 0, 25, 0)],
        "Lunch": [("Tuna Salad", 300, 25, 20, 10), ("Crackers", 100, 3, 15, 4)],
        "Dinner": [("Roast Chicken", 350, 30, 0, 20), ("Green Beans", 50, 2, 10, 0)],
        "Snack": [("String Cheese", 80, 6, 1, 6), ("Grapes", 100, 1, 27, 0)]
    },
    5: {
        "Breakfast": [("Pancakes with Syrup", 250, 6, 50, 5), ("Milk", 100, 8, 12, 2)],
        "Lunch": [("Vegetable Soup", 200, 10, 30, 5), ("Whole Wheat Bread", 70, 3, 12, 1)],
        "Dinner": [("Pork Chops", 350, 30, 0, 20), ("Mashed Potatoes", 150, 3, 30, 5)],
        "Snack": [("Orange", 60, 1, 15, 0), ("Peanut Butter", 100, 4, 4, 9)]
    },
    6: {
        "Breakfast": [("Smoothie Bowl", 300, 6, 60, 8), ("Green Tea", 0, 0, 0, 0)],
        "Lunch": [("Ham Sandwich", 350, 25, 40, 10), ("Tomato Soup", 150, 5, 20, 5)],
        "Dinner": [("Shrimp Stir-Fry", 350, 25, 35, 10), ("Brown Rice", 150, 3, 30, 1)],
        "Snack": [("Celery with Hummus", 100, 3, 10, 5), ("Mixed Berries", 85, 1, 21, 0)]
    },
    7: {
        "Breakfast": [("French Toast", 300, 8, 45, 10), ("Orange Juice", 110, 2, 25, 0)],
        "Lunch": [("BBQ Chicken Salad", 350, 25, 30, 12), ("Whole Wheat Crackers", 100, 3, 15, 4)],
        "Dinner": [("Grilled Fish", 350, 30, 0, 20), ("Quinoa", 150, 5, 30, 2)],
        "Snack": [("Protein Bar", 200, 10, 25, 8), ("Apple Slices with Peanut Butter", 150, 3, 15, 10)]
    }
    }
vegan_menu= {
    1: {
        "Breakfast": [("Smoothie", 200, 5, 50, 1), ("Chia Pudding", 180, 6, 20, 9)],
        "Lunch": [("Tofu Stir-Fry", 250, 20, 30, 10), ("Quinoa Salad", 200, 6, 35, 5)],
        "Dinner": [("Lentil Soup", 250, 18, 40, 8), ("Vegan Burger", 300, 22, 45, 12)],
        "Snack": [("Hummus & Carrots", 150, 4, 20, 8), ("Fruit Salad", 100, 1, 25, 0)]
    },
    2: {
        "Breakfast": [("Avocado Toast", 220, 4, 20, 15), ("Green Smoothie", 180, 4, 30, 2)],
        "Lunch": [("Chickpea Salad", 250, 12, 35, 8), ("Roasted Vegetables", 200, 3, 25, 12)],
        "Dinner": [("Stuffed Bell Peppers", 300, 18, 45, 10), ("Vegan Stir-Fry", 250, 20, 35, 8)],
        "Snack": [("Nut Mix", 150, 5, 5, 14), ("Apple Slices", 100, 0, 27, 0)]
    },
    3: {
        "Breakfast": [("Oatmeal", 200, 6, 30, 5), ("Almond Butter", 150, 5, 5, 13)],
        "Lunch": [("Vegan Sushi", 250, 6, 35, 7), ("Miso Soup", 100, 4, 15, 2)],
        "Dinner": [("Vegetable Curry", 300, 10, 50, 12), ("Brown Rice", 200, 5, 45, 1)],
        "Snack": [("Protein Bars", 150, 10, 15, 5), ("Grapes", 100, 1, 27, 0)]
    },
    4: {
        "Breakfast": [("Berry Smoothie Bowl", 220, 6, 40, 5), ("Granola", 150, 3, 25, 5)],
        "Lunch": [("Vegan Burrito", 300, 12, 40, 10), ("Corn Salad", 200, 4, 30, 8)],
        "Dinner": [("Vegan Chili", 300, 20, 40, 10), ("Quinoa", 150, 6, 30, 2)],
        "Snack": [("Edamame", 150, 12, 15, 6), ("Orange", 100, 1, 25, 0)]
    },
    5: {
        "Breakfast": [("Chia Pudding with Berries", 220, 6, 20, 10), ("Fruit Smoothie", 180, 4, 30, 2)],
        "Lunch": [("Lentil Salad", 250, 18, 30, 6), ("Steamed Broccoli", 100, 4, 15, 1)],
        "Dinner": [("Vegan Pasta", 300, 12, 50, 8), ("Mixed Greens Salad", 150, 2, 15, 7)],
        "Snack": [("Almonds", 150, 6, 6, 14), ("Pear", 100, 1, 25, 0)]
    },
    6: {
        "Breakfast": [("Smoothie with Spinach and Banana", 220, 5, 50, 1), ("Overnight Oats", 180, 6, 30, 5)],
        "Lunch": [("Vegan Wrap", 250, 10, 40, 8), ("Cucumber Salad", 100, 2, 10, 5)],
        "Dinner": [("Tofu Stir-Fry with Vegetables", 300, 20, 35, 10), ("Sweet Potato", 150, 4, 35, 0)],
        "Snack": [("Trail Mix", 150, 5, 15, 10), ("Kiwi", 100, 2, 20, 0)]
    },
    7: {
        "Breakfast": [("Vegan Pancakes", 220, 6, 40, 5), ("Maple Syrup", 100, 0, 26, 0)],
        "Lunch": [("Chickpea and Avocado Salad", 250, 12, 35, 10), ("Roasted Brussels Sprouts", 150, 5, 15, 7)],
        "Dinner": [("Vegan Stuffed Peppers", 300, 18, 45, 12), ("Cauliflower Rice", 100, 3, 10, 1)],
        "Snack": [("Peanut Butter & Apple Slices", 150, 4, 15, 10), ("Dark Chocolate", 100, 1, 15, 6)]
    }
    }
vegetarian_menu= {
    1: {
        "Breakfast": [("Greek Yogurt with Honey", 150, 10, 20, 5), ("Banana", 105, 1, 27, 0)],
        "Lunch": [("Vegetarian Wrap", 300, 10, 40, 10), ("Carrot Sticks", 50, 1, 12, 0)],
        "Dinner": [("Vegetable Stir-Fry", 350, 15, 50, 12), ("Brown Rice", 150, 3, 30, 1)],
        "Snack": [("Mixed Nuts", 200, 5, 10, 18), ("Blueberries", 85, 1, 21, 0)]
    },
    2: {
        "Breakfast": [("Smoothie Bowl", 300, 6, 60, 8), ("Green Tea", 0, 0, 0, 0)],
        "Lunch": [("Caprese Salad", 250, 10, 20, 15), ("Whole Wheat Bread", 70, 3, 12, 1)],
        "Dinner": [("Vegetable Curry", 350, 10, 50, 12), ("Naan Bread", 150, 4, 30, 3)],
        "Snack": [("Apple", 95, 0, 25, 0), ("Almonds", 100, 4, 4, 9)]
    },
    3: {
        "Breakfast": [("Oatmeal with Almond Butter", 250, 8, 40, 10), ("Orange Juice", 110, 2, 25, 0)],
        "Lunch": [("Veggie Burger", 350, 15, 40, 12), ("Sweet Potato Fries", 150, 2, 25, 5)],
        "Dinner": [("Stuffed Peppers", 350, 12, 50, 10), ("Quinoa", 150, 5, 30, 2)],
        "Snack": [("Celery with Hummus", 100, 3, 10, 5), ("Mixed Berries", 85, 1, 21, 0)]
    },
    4: {
        "Breakfast": [("Pancakes with Syrup", 250, 6, 50, 5), ("Milk", 100, 8, 12, 2)],
        "Lunch": [("Vegetable Soup", 200, 10, 30, 5), ("Whole Wheat Bread", 70, 3, 12, 1)],
        "Dinner": [("Eggplant Parmesan", 350, 15, 40, 15), ("Caesar Salad", 150, 5, 10, 10)],
        "Snack": [("Orange", 60, 1, 15, 0), ("Peanut Butter", 100, 4, 4, 9)]
    },
    5: {
        "Breakfast": [("Greek Yogurt with Granola", 200, 10, 30, 5), ("Apple", 95, 0, 25, 0)],
        "Lunch": [("Veggie Pizza", 350, 12, 50, 12), ("Side Salad", 100, 3, 10, 7)],
        "Dinner": [("Vegetable Lasagna", 350, 15, 45, 15), ("Garlic Bread", 150, 4, 30, 5)],
        "Snack": [("String Cheese", 80, 6, 1, 6), ("Grapes", 100, 1, 27, 0)]
    },
    6: {
        "Breakfast": [("Smoothie with Spinach and Banana", 220, 5, 50, 1), ("Overnight Oats", 180, 6, 30, 5)],
        "Lunch": [("Chickpea Salad", 300, 10, 40, 10), ("Tomato Soup", 150, 5, 20, 5)],
        "Dinner": [("Vegetable Stir-Fry", 350, 15, 50, 12), ("Quinoa", 150, 3, 30, 1)],
        "Snack": [("Celery with Hummus", 100, 3, 10, 5), ("Mixed Berries", 85, 1, 21, 0)]
    },
    7: {
        "Breakfast": [("Avocado Toast", 250, 6, 30, 15), ("Green Tea", 0, 0, 0, 0)],
        "Lunch": [("Vegetarian Chili", 350, 15, 45, 10), ("Cornbread", 150, 4, 30, 3)],
        "Dinner": [("Vegetarian Pasta", 350, 10, 50, 12), ("Side Salad", 100, 3, 10, 7)],
        "Snack": [("Mixed Nuts", 200, 5, 10, 18), ("Blueberries", 85, 1, 21, 0)]
    }
    }
ketogenic_menu= {
    1: {
        "Breakfast": [("Bacon and Eggs", 300, 20, 2, 25), ("Avocado", 100, 2, 8, 9)],
        "Lunch": [("Chicken Salad with Olive Oil", 400, 30, 10, 25), ("Cheese Cubes", 100, 7, 1, 9)],
        "Dinner": [("Grilled Salmon", 350, 25, 0, 20), ("Asparagus with Butter", 150, 4, 8, 13)],
        "Snack": [("Nuts", 200, 5, 5, 18), ("Olives", 50, 0, 2, 5)]
    },
    2: {
        "Breakfast": [("Omelette with Spinach", 250, 15, 3, 20), ("Berries", 50, 1, 10, 0)],
        "Lunch": [("Tuna Salad with Mayo", 350, 25, 5, 25), ("Pickles", 20, 0, 4, 0)],
        "Dinner": [("Beef Stir-Fry", 400, 30, 5, 30), ("Cauliflower Rice", 100, 2, 7, 7)],
        "Snack": [("Cheese Sticks", 100, 7, 1, 9), ("Almonds", 150, 5, 5, 13)]
    },
    3: {
        "Breakfast": [("Greek Yogurt with Flaxseeds", 200, 10, 10, 15), ("Black Coffee", 0, 0, 0, 0)],
        "Lunch": [("Egg Salad with Avocado", 350, 25, 5, 30), ("Celery Sticks", 20, 0, 4, 0)],
        "Dinner": [("Pork Chops", 400, 30, 0, 25), ("Steamed Broccoli", 100, 3, 7, 1)],
        "Snack": [("Nut Butter", 150, 5, 5, 13), ("Berries", 50, 1, 10, 0)]
    },
    4: {
        "Breakfast": [("Smoothie with Protein Powder", 250, 20, 10, 15), ("Avocado", 100, 2, 8, 9)],
        "Lunch": [("Chicken Wrap in Lettuce", 350, 25, 5, 20), ("Cheese Cubes", 100, 7, 1, 9)],
        "Dinner": [("Lamb Chops", 400, 30, 0, 25), ("Steamed Spinach", 100, 2, 4, 7)],
        "Snack": [("Nuts", 200, 5, 5, 18), ("Olives", 50, 0, 2, 5)]
    },
    5: {
        "Breakfast": [("Coconut Yogurt with Chia Seeds", 200, 10, 10, 15), ("Black Coffee", 0, 0, 0, 0)],
        "Lunch": [("Salmon Salad with Avocado", 350, 25, 5, 30), ("Pickles", 20, 0, 4, 0)],
        "Dinner": [("Grilled Steak", 400, 30, 0, 25), ("Cauliflower Mash", 100, 2, 7, 7)],
        "Snack": [("Cheese Sticks", 100, 7, 1, 9), ("Almonds", 150, 5, 5, 13)]
    },
    6: {
        "Breakfast": [("Scrambled Eggs with Cheese", 300, 20, 2, 25), ("Avocado", 100, 2, 8, 9)],
        "Lunch": [("Chicken Caesar Salad", 400, 30, 10, 25), ("Cheese Cubes", 100, 7, 1, 9)],
        "Dinner": [("Baked Cod with Butter", 350, 25, 0, 20), ("Zucchini Noodles", 100, 2, 8, 7)],
        "Snack": [("Nuts", 200, 5, 5, 18), ("Olives", 50, 0, 2, 5)]
    },
    7: {
        "Breakfast": [("Greek Yogurt with Nuts", 200, 10, 10, 15), ("Black Coffee", 0, 0, 0, 0)],
        "Lunch": [("Avocado and Bacon Salad", 350, 25, 5, 30), ("Pickles", 20, 0, 4, 0)],
        "Dinner": [("Grilled Chicken with Butter", 400, 30, 0, 25), ("Steamed Cauliflower", 100, 2, 7, 7)],
        "Snack": [("Cheese Sticks", 100, 7, 1, 9), ("Almonds", 150, 5, 5, 13)]
    }
}
gluten_free_menu= {
    1: {
        "Breakfast": [("Greek Yogurt with Honey and Berries", 200, 10, 20, 10), ("Gluten-Free Granola", 150, 5, 25, 7)],
        "Lunch": [("Grilled Chicken Salad with Olive Oil", 300, 25, 10, 15), ("Quinoa", 100, 3, 18, 3)],
        "Dinner": [("Baked Salmon with Lemon", 350, 30, 0, 20), ("Steamed Vegetables", 100, 4, 15, 2)],
        "Snack": [("Rice Cakes with Peanut Butter", 150, 4, 18, 7), ("Apple Slices", 50, 0, 14, 0)]
    },
    2: {
        "Breakfast": [("Smoothie with Almond Milk and Banana", 200, 2, 25, 3), ("Gluten-Free Toast with Avocado", 150, 4, 15, 8)],
        "Lunch": [("Turkey and Veggie Wrap in Lettuce", 250, 20, 10, 15), ("Carrot Sticks", 50, 1, 10, 0)],
        "Dinner": [("Grilled Shrimp with Garlic", 300, 25, 0, 10), ("Brown Rice", 150, 4, 30, 3)],
        "Snack": [("Hummus with Cucumber Slices", 100, 3, 10, 7), ("Mixed Nuts", 100, 3, 5, 9)]
    },
    3: {
        "Breakfast": [("Oatmeal with Almond Butter", 200, 5, 25, 8), ("Orange Juice", 100, 2, 20, 0)],
        "Lunch": [("Chicken and Avocado Salad", 300, 25, 10, 15), ("Quinoa", 100, 3, 18, 3)],
        "Dinner": [("Beef Stir-Fry with Broccoli", 350, 30, 10, 20), ("Cauliflower Rice", 100, 3, 15, 1)],
        "Snack": [("Yogurt with Berries", 150, 5, 20, 5), ("Gluten-Free Crackers", 50, 1, 10, 1)]
    },
    4: {
        "Breakfast": [("Egg and Veggie Scramble", 200, 15, 5, 10), ("Gluten-Free Toast with Jam", 100, 2, 20, 2)],
        "Lunch": [("Salmon Salad with Olive Oil", 300, 25, 10, 15), ("Rice Cakes", 100, 2, 20, 2)],
        "Dinner": [("Chicken Breast with Quinoa", 350, 30, 10, 20), ("Steamed Vegetables", 100, 4, 15, 2)],
        "Snack": [("Apple Slices with Peanut Butter", 150, 4, 18, 7), ("Mixed Nuts", 100, 3, 5, 9)]
    },
    5: {
        "Breakfast": [("Smoothie with Spinach and Berries", 200, 2, 25, 3), ("Gluten-Free Muffin", 150, 4, 20, 7)],
        "Lunch": [("Grilled Chicken with Avocado", 300, 25, 10, 15), ("Quinoa", 100, 3, 18, 3)],
        "Dinner": [("Baked Cod with Lemon", 350, 30, 0, 20), ("Steamed Asparagus", 100, 4, 15, 2)],
        "Snack": [("Carrot Sticks with Hummus", 100, 3, 10, 7), ("Apple Slices", 50, 0, 14, 0)]
    },
    6: {
        "Breakfast": [("Oatmeal with Blueberries", 200, 5, 25, 8), ("Orange Juice", 100, 2, 20, 0)],
        "Lunch": [("Turkey Salad with Olive Oil", 300, 25, 10, 15), ("Quinoa", 100, 3, 18, 3)],
        "Dinner": [("Grilled Steak with Broccoli", 350, 30, 10, 20), ("Cauliflower Rice", 100, 3, 15, 1)],
        "Snack": [("Rice Cakes with Almond Butter", 150, 4, 18, 7), ("Mixed Nuts", 100, 3, 5, 9)]
    },
    7: {
        "Breakfast": [("Egg and Spinach Omelette", 200, 15, 5, 10), ("Gluten-Free Toast with Jam", 100, 2, 20, 2)],
        "Lunch": [("Salmon Salad with Olive Oil", 300, 25, 10, 15), ("Rice Cakes", 100, 2, 20, 2)],
        "Dinner": [("Chicken Breast with Brown Rice", 350, 30, 10, 20), ("Steamed Vegetables", 100, 4, 15, 2)],
        "Snack": [("Apple Slices with Peanut Butter", 150, 4, 18, 7), ("Mixed Nuts", 100, 3, 5, 9)]
    }
}
athletic_menu= {
    1: {
        "Breakfast": [("Scrambled Eggs with Spinach and Tomatoes", 250, 20, 10, 15), ("Whole Grain Toast", 150, 5, 25, 3)],
        "Lunch": [("Grilled Chicken Breast with Brown Rice", 400, 30, 45, 10), ("Steamed Broccoli", 100, 4, 15, 2)],
        "Dinner": [("Baked Salmon with Quinoa", 450, 35, 40, 20), ("Mixed Green Salad", 100, 3, 15, 5)],
        "Snack": [("Greek Yogurt with Berries", 200, 10, 20, 10), ("Almonds", 100, 3, 5, 9)]
    },
    2: {
        "Breakfast": [("Oatmeal with Almond Butter and Banana", 300, 8, 50, 10), ("Orange Juice", 100, 2, 20, 0)],
        "Lunch": [("Turkey and Avocado Wrap", 350, 25, 30, 15), ("Carrot Sticks", 50, 1, 10, 0)],
        "Dinner": [("Grilled Shrimp with Quinoa", 400, 30, 40, 10), ("Steamed Asparagus", 100, 4, 15, 2)],
        "Snack": [("Protein Shake", 200, 20, 15, 5), ("Apple Slices with Peanut Butter", 150, 4, 18, 7)]
    },
    3: {
        "Breakfast": [("Smoothie with Spinach, Berries, and Protein Powder", 300, 20, 40, 5), ("Whole Grain Toast with Avocado", 150, 4, 15, 8)],
        "Lunch": [("Chicken and Quinoa Salad", 350, 25, 40, 10), ("Greek Yogurt", 150, 10, 15, 5)],
        "Dinner": [("Beef Stir-Fry with Brown Rice", 450, 35, 50, 20), ("Steamed Vegetables", 100, 4, 15, 2)],
        "Snack": [("Cottage Cheese with Pineapple", 200, 10, 25, 5), ("Mixed Nuts", 100, 3, 5, 9)]
    },
    4: {
        "Breakfast": [("Egg and Veggie Omelette", 250, 20, 10, 15), ("Whole Grain Toast with Jam", 100, 2, 20, 2)],
        "Lunch": [("Grilled Chicken with Brown Rice and Veggies", 400, 30, 45, 10), ("Greek Yogurt", 150, 10, 15, 5)],
        "Dinner": [("Baked Cod with Sweet Potato", 450, 35, 40, 20), ("Mixed Green Salad", 100, 3, 15, 5)],
        "Snack": [("Protein Bar", 200, 20, 20, 5), ("Almonds", 100, 3, 5, 9)]
    },
    5: {
        "Breakfast": [("Oatmeal with Protein Powder and Berries", 300, 20, 50, 10), ("Orange Juice", 100, 2, 20, 0)],
        "Lunch": [("Turkey and Avocado Salad", 350, 25, 30, 15), ("Carrot Sticks", 50, 1, 10, 0)],
        "Dinner": [("Grilled Salmon with Brown Rice", 450, 35, 40, 20), ("Steamed Broccoli", 100, 4, 15, 2)],
        "Snack": [("Greek Yogurt with Honey and Nuts", 200, 10, 20, 10), ("Apple Slices with Peanut Butter", 150, 4, 18, 7)]
    },
    6: {
        "Breakfast": [("Scrambled Eggs with Spinach and Mushrooms", 250, 20, 10, 15), ("Whole Grain Toast", 150, 5, 25, 3)],
        "Lunch": [("Chicken Breast with Quinoa and Veggies", 400, 30, 45, 10), ("Greek Yogurt", 150, 10, 15, 5)],
        "Dinner": [("Baked Shrimp with Sweet Potato", 450, 35, 40, 20), ("Mixed Green Salad", 100, 3, 15, 5)],
        "Snack": [("Protein Shake", 200, 20, 15, 5), ("Almonds", 100, 3, 5, 9)]
    },
    7: {
        "Breakfast": [("Smoothie with Spinach, Banana, and Protein Powder", 300, 20, 40, 5), ("Whole Grain Toast with Avocado", 150, 4, 15, 8)],
        "Lunch": [("Chicken and Brown Rice Salad", 350, 25, 40, 10), ("Greek Yogurt", 150, 10, 15, 5)],
        "Dinner": [("Grilled Beef with Quinoa", 450, 35, 50, 20), ("Steamed Vegetables", 100, 4, 15, 2)],
        "Snack": [("Cottage Cheese with Pineapple", 200, 10, 25, 5), ("Mixed Nuts", 100, 3, 5, 9)]
    }
}


def create_diet_plan(finalBMR, selected_diet_type, diet_days):

    diet_menus = {
        "standard": standard_menu,
        "vegan": vegan_menu,
        "vegetarian": vegetarian_menu,
        "ketogenic": ketogenic_menu,
        "gluten_free": gluten_free_menu,
        "athletic": athletic_menu,
    }
    
    selected_menu = diet_menus[selected_diet_type]
    
    diet_plan = []

    
    for day in range(1, diet_days + 1):
        menu_day = day % len(selected_menu)
        if menu_day == 0:
            menu_day = len(selected_menu)
        
        daily_menu = selected_menu[menu_day]
        
        total_calories = sum(item[1] for meal in daily_menu.values() for item in meal)
        scale_factor = finalBMR / total_calories
        
        scaled_menu = {}
        for meal, items in daily_menu.items():
            scaled_items = [
                (
                    item[0], 
                    item[1] * scale_factor,  
                    item[2] * scale_factor,  
                    item[3] * scale_factor,  
                    item[4] * scale_factor   
                ) for item in items
            ]
            scaled_menu[meal] = scaled_items
        
        diet_plan.append(scaled_menu)
    
    return diet_plan

diet_plan = create_diet_plan(finalBMR, selected_diet_type, diet_days)
for i, day in enumerate(diet_plan, 1):
    print(f"Day {i}:")
    for meal, items in day.items():
        print(f"  {meal}:")
        for item in items:
            print(f"    {item[0]} - Calories: {item[1]:.2f}, Protein: {item[2]:.2f}, Carbs: {item[3]:.2f}, Fat: {item[4]:.2f}")
    print()


class WaterTracker:
    def __init__(self, weight):
        self.weight = weight
        self.daily_water_needed = self.calculate_daily_water_intake()
        self.consumed_water = 0  

    def calculate_daily_water_intake(self):
        return self.weight * 30
    
    def add_water(self, amount_ml):
        self.consumed_water += amount_ml

    def display_daily_goal(self):
        print(f"your daily water intake goal is: {self.daily_water_needed:.2f} ml, don't forget to drink that amount during your diet.")
    
    def display_progress(self):
        remaining_water = self.daily_water_needed - self.consumed_water
        print(f"total water consumed: {self.consumed_water:.2f} ml.")
        
        if remaining_water > 0:
            print(f"you have {remaining_water:.2f} ml of water left to drink today.")
        else:
            excess_water = abs(remaining_water)
            print(f"congratulations! you've met your daily water intake goal, you have consumed {excess_water:.2f} ml more than needed.")

water_tracker = WaterTracker(weight)
water_tracker.display_daily_goal()

while True:
    try:
        user_input = input("enter the amount of water you consumed (ml) or type 'q' to quit: ")
        
        if user_input.lower() == "q":
            print("exiting the water tracker, have a great day!")
            break
        
        amount_ml = float(user_input)
        water_tracker.add_water(amount_ml)  
        water_tracker.display_progress()  
        
    except ValueError:
        print("invalid input, please enter a valid number or type 'q' to quit.")


recipes = {
    "standard": [
        {"instructions": "1. Preheat oven to 200°C (400°F).\n2. Season chicken breasts with salt, pepper, and olive oil.\n3. Bake for 25-30 minutes until cooked through.", "name": "Baked Chicken Breast"},
        {"instructions": "1. Boil pasta according to package instructions.\n2. In a separate pan, sauté garlic and onions in olive oil.\n3. Add tomato sauce and simmer.\n4. Mix sauce with cooked pasta.", "name": "Tomato Pasta"},
        {"instructions": "1. Heat oil in a large pot.\n2. Add chopped vegetables (carrots, celery, onions) and sauté.\n3. Add broth and bring to a boil.\n4. Simmer until vegetables are tender.", "name": "Vegetable Soup"}
    ],
    "vegan": [
        {"instructions": "1. Cook quinoa according to package instructions.\n2. In a pan, sauté garlic, onions, and bell peppers.\n3. Add black beans, corn, and spices.\n4. Mix with cooked quinoa.", "name": "Quinoa and Black Bean Stir-fry"},
        {"instructions": "1. Blend soaked cashews with water, lemon juice, and nutritional yeast.\n2. Toss with cooked pasta and steamed broccoli.", "name": "Vegan Alfredo Pasta"},
        {"instructions": "1. Blend chickpeas, tahini, lemon juice, and garlic.\n2. Serve with sliced vegetables for dipping.", "name": "Hummus with Veggies"}
    ],
    "vegetarian": [
        {"instructions": "1. Slice tofu into cubes and marinate with soy sauce and sesame oil.\n2. Stir-fry with mixed vegetables.\n3. Serve over rice.", "name": "Tofu Stir-fry"},
        {"instructions": "1. Cook spaghetti according to package instructions.\n2. Sauté garlic and mushrooms in olive oil.\n3. Add cream and grated Parmesan.\n4. Mix with cooked spaghetti.", "name": "Mushroom Alfredo Spaghetti"},
        {"instructions": "1. Bake a pre-made pizza crust.\n2. Top with tomato sauce, mozzarella, and your favorite vegetables.\n3. Bake until cheese is melted.", "name": "Vegetarian Pizza"}
    ],
    "ketogenic": [
        {"instructions": "1. Season salmon fillets with salt, pepper, and lemon juice.\n2. Bake at 180°C (350°F) for 20-25 minutes.\n3. Serve with a side of steamed broccoli.", "name": "Baked Salmon with Broccoli"},
        {"instructions": "1. Cook ground beef with chopped onions and garlic.\n2. Add low-carb tomato sauce and spices.\n3. Serve over spiralized zucchini.", "name": "Zucchini Noodles with Meat Sauce"},
        {"instructions": "1. Scramble eggs with spinach, bell peppers, and cheese.\n2. Serve with avocado slices.", "name": "Keto Veggie Scramble"}
    ],
    "gluten_free": [
        {"instructions": "1. Marinate chicken thighs in olive oil, lemon juice, and herbs.\n2. Grill or bake at 200°C (400°F) for 25-30 minutes.\n3. Serve with a side of roasted vegetables.", "name": "Herb-Grilled Chicken"},
        {"instructions": "1. Sauté shrimp in garlic and olive oil.\n2. Add gluten-free pasta and toss with lemon juice and parsley.", "name": "Garlic Shrimp Pasta"},
        {"instructions": "1. Roast sweet potatoes at 200°C (400°F) for 30-35 minutes.\n2. Top with black beans, avocado, and salsa.", "name": "Stuffed Sweet Potatoes"}
    ],
    "athletic": [
        {"instructions": "1. Blend protein powder with frozen berries, spinach, and almond milk.\n2. Serve immediately.", "name": "Berry Protein Smoothie"},
        {"instructions": "1. Grill or bake chicken breasts seasoned with olive oil and herbs.\n2. Serve with quinoa and a side salad.", "name": "Grilled Chicken with Quinoa"},
        {"instructions": "1. Cook oats with almond milk and a scoop of protein powder.\n2. Top with sliced bananas and a drizzle of honey.", "name": "Protein-Packed Oatmeal"}
    ]
}

while True:
    daily_recipe = input("would you like to see the recipe of the day? (yes/no): ").strip().lower()
    
    if daily_recipe in ["yes", "no"]:
        break
    else:
        print("invalid response, please enter 'yes' or 'no'.")

if daily_recipe == 'yes':
    if selected_diet_type in recipes:
        selected_recipes = recipes[selected_diet_type]
        recipe_choice = random.choice(selected_recipes)
        print(f"the recipe of the day for your diet type is: {recipe_choice['name']}")
        print("instructions:\n" + recipe_choice['instructions'])
    else:
        print("invalid diet type selected.")
elif daily_recipe == 'no':
    print("alright, have a great day!")


desserts = {
    "standard": [
        {"instructions": "1. Preheat oven to 180°C (350°F).\n2. Mix flour, sugar, cocoa, and baking powder.\n3. Add eggs, milk, and melted butter.\n4. Pour into greased pan and bake for 30 minutes.", "name": "Chocolate cake"},
        {"instructions": "1. Preheat oven to 160°C (325°F).\n2. Blend cream cheese, sugar, and vanilla.\n3. Add eggs one at a time.\n4. Pour into crust and bake for 60 minutes.", "name": "Cheesecake"},
        {"instructions": "1. Preheat oven to 220°C (425°F).\n2. Roll out pie dough and place in pie pan.\n3. Mix apples with sugar and cinnamon.\n4. Fill pie crust and bake for 45 minutes.", "name": "Apple pie"}
    ],
    "vegan": [
        {"instructions": "1. Melt dark chocolate.\n2. Blend with silken tofu and vanilla extract.\n3. Chill in the refrigerator for 2 hours.", "name": "Vegan chocolate mousse"},
        {"instructions": "1. Blend cashews, coconut milk, and maple syrup.\n2. Pour into crust and chill overnight.\n3. Top with fruit or chocolate sauce.", "name": "Vegan cheesecake"},
        {"instructions": "1. Blend fresh fruit with sugar and lemon juice.\n2. Freeze the mixture and stir every 30 minutes until firm.", "name": "Fruit sorbet"}
    ],
    "vegetarian": [
        {"instructions": "1. Preheat oven to 180°C (350°F).\n2. Prepare tart crust and bake until golden.\n3. Fill with pastry cream and top with fresh fruit.", "name": "Fruit tart"},
        {"instructions": "1. Preheat oven to 175°C (350°F).\n2. Mix flour, cocoa, sugar, and baking soda.\n3. Add eggs, vegetable oil, and vanilla.\n4. Bake for 25 minutes.", "name": "Vegetarian brownies"},
        {"instructions": "1. Preheat oven to 190°C (375°F).\n2. Mix sliced apples with sugar and cinnamon.\n3. Top with a mixture of oats, flour, and butter.\n4. Bake for 40 minutes.", "name": "Apple crisp"}
    ],
    "ketogenic": [
        {"instructions": "1. Preheat oven to 160°C (325°F).\n2. Prepare almond flour crust.\n3. Blend cream cheese, eggs, and sweetener.\n4. Bake for 45 minutes.", "name": "Keto cheesecake"},
        {"instructions": "1. Preheat oven to 175°C (350°F).\n2. Mix almond flour, cocoa, and sweetener.\n3. Add eggs and butter.\n4. Bake for 20 minutes.", "name": "Keto brownies"},
        {"instructions": "1. Melt sugar-free chocolate and pour into molds.\n2. Mix peanut butter with a bit of coconut oil.\n3. Fill molds with peanut butter mixture and freeze.", "name": "Keto peanut butter cups"}
    ],
    "gluten_free": [
        {"instructions": "1. Preheat oven to 175°C (350°F).\n2. Mix gluten-free flour, cocoa, and sugar.\n3. Add eggs and melted butter.\n4. Bake for 25 minutes.", "name": "Gluten-free brownies"},
        {"instructions": "1. Preheat oven to 175°C (350°F).\n2. Prepare crust with gluten-free flour.\n3. Mix lemon juice, eggs, and sugar for filling.\n4. Bake for 30 minutes.", "name": "Gluten-free lemon bars"},
        {"instructions": "1. Preheat oven to 180°C (350°F).\n2. Mix gluten-free flour with grated carrots, sugar, and spices.\n3. Add eggs and bake for 40 minutes.", "name": "Gluten-free carrot cake"}
    ],
    "athletic": [
        {"instructions": "1. Mix protein powder with oats, nut butter, and honey.\n2. Press into a pan and chill until set.\n3. Cut into bars.", "name": "Protein bars"},
        {"instructions": "1. Spoon Greek yogurt into a bowl.\n2. Top with fresh berries and a drizzle of honey.", "name": "Greek yogurt with berries"},
        {"instructions": "1. Blend protein powder with almond milk, banana, and a handful of spinach.\n2. Serve immediately.", "name": "Protein smoothie"}
    ]
}

while True:
    dessert_of_the_day = input("would you like to see the dessert of the week? (yes/no): ").strip().lower()
    
    if dessert_of_the_day in ["yes", "no"]:
        break
    else:
        print("invalid response, please enter 'yes' or 'no'.")

if dessert_of_the_day == 'yes':
    if selected_diet_type in desserts:
        selected_desserts = desserts[selected_diet_type]
        dessert_choice = random.choice(selected_desserts)
        print(f"the dessert of the week for your diet type is: {dessert_choice['name']}")
        print("instructions:\n" + dessert_choice['instructions'])
    else:
        print("invalid diet type selected.")
elif dessert_of_the_day == 'no':
    print("alright, have a great day!")

print("bon appétit!")
